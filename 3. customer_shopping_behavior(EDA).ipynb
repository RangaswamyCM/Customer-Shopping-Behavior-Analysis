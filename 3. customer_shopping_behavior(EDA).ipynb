{
 "cells": [
  {
   "cell_type": "markdown",
   "id": "e21247e5",
   "metadata": {},
   "source": [
    "# 🛒 Consumer Behavior Analysis - Retail Data Analytics Project\n",
    "\n",
    "## 📌 Business Problem Statement\n",
    "A leading retail company wants to better understand its **customers’ shopping behavior** to improve **sales, customer satisfaction, and long-term loyalty**.  \n",
    "Management has observed shifts in **purchasing patterns** across demographics, product categories, and sales channels (online vs. offline).\n",
    "\n",
    "They seek to uncover which factors — such as **discounts, reviews, seasons, or payment preferences** — most influence customer decisions and **repeat purchases**.\n",
    "\n",
    "### 🎯 Business Question\n",
    "> **How can the company leverage consumer shopping data to identify trends, improve customer engagement, and optimize marketing and product strategies?**\n"
   ]
  },
  {
   "cell_type": "markdown",
   "id": "fdb08b5e",
   "metadata": {},
   "source": [
    "### 1. 📦 Import Required Libraries"
   ]
  },
  {
   "cell_type": "code",
   "execution_count": 46,
   "id": "a286b65e",
   "metadata": {},
   "outputs": [],
   "source": [
    "import  pandas as pd"
   ]
  },
  {
   "cell_type": "markdown",
   "id": "19666d02",
   "metadata": {},
   "source": [
    "### 2. Load Dataset"
   ]
  },
  {
   "cell_type": "code",
   "execution_count": 25,
   "id": "a1d69ad6",
   "metadata": {},
   "outputs": [
    {
     "data": {
      "text/html": [
       "<div>\n",
       "<style scoped>\n",
       "    .dataframe tbody tr th:only-of-type {\n",
       "        vertical-align: middle;\n",
       "    }\n",
       "\n",
       "    .dataframe tbody tr th {\n",
       "        vertical-align: top;\n",
       "    }\n",
       "\n",
       "    .dataframe thead th {\n",
       "        text-align: right;\n",
       "    }\n",
       "</style>\n",
       "<table border=\"1\" class=\"dataframe\">\n",
       "  <thead>\n",
       "    <tr style=\"text-align: right;\">\n",
       "      <th></th>\n",
       "      <th>Customer ID</th>\n",
       "      <th>Age</th>\n",
       "      <th>Gender</th>\n",
       "      <th>Item Purchased</th>\n",
       "      <th>Category</th>\n",
       "      <th>Purchase Amount (USD)</th>\n",
       "      <th>Location</th>\n",
       "      <th>Size</th>\n",
       "      <th>Color</th>\n",
       "      <th>Season</th>\n",
       "      <th>Review Rating</th>\n",
       "      <th>Subscription Status</th>\n",
       "      <th>Shipping Type</th>\n",
       "      <th>Discount Applied</th>\n",
       "      <th>Promo Code Used</th>\n",
       "      <th>Previous Purchases</th>\n",
       "      <th>Payment Method</th>\n",
       "      <th>Frequency of Purchases</th>\n",
       "    </tr>\n",
       "  </thead>\n",
       "  <tbody>\n",
       "    <tr>\n",
       "      <th>0</th>\n",
       "      <td>1</td>\n",
       "      <td>55</td>\n",
       "      <td>Male</td>\n",
       "      <td>Blouse</td>\n",
       "      <td>Clothing</td>\n",
       "      <td>53</td>\n",
       "      <td>Kentucky</td>\n",
       "      <td>L</td>\n",
       "      <td>Gray</td>\n",
       "      <td>Winter</td>\n",
       "      <td>3.1</td>\n",
       "      <td>Yes</td>\n",
       "      <td>Express</td>\n",
       "      <td>Yes</td>\n",
       "      <td>Yes</td>\n",
       "      <td>14</td>\n",
       "      <td>Venmo</td>\n",
       "      <td>Fortnightly</td>\n",
       "    </tr>\n",
       "    <tr>\n",
       "      <th>1</th>\n",
       "      <td>2</td>\n",
       "      <td>19</td>\n",
       "      <td>Male</td>\n",
       "      <td>Sweater</td>\n",
       "      <td>Clothing</td>\n",
       "      <td>64</td>\n",
       "      <td>Maine</td>\n",
       "      <td>L</td>\n",
       "      <td>Maroon</td>\n",
       "      <td>Winter</td>\n",
       "      <td>3.1</td>\n",
       "      <td>Yes</td>\n",
       "      <td>Express</td>\n",
       "      <td>Yes</td>\n",
       "      <td>Yes</td>\n",
       "      <td>2</td>\n",
       "      <td>Cash</td>\n",
       "      <td>Fortnightly</td>\n",
       "    </tr>\n",
       "    <tr>\n",
       "      <th>2</th>\n",
       "      <td>3</td>\n",
       "      <td>50</td>\n",
       "      <td>Male</td>\n",
       "      <td>Jeans</td>\n",
       "      <td>Clothing</td>\n",
       "      <td>73</td>\n",
       "      <td>Massachusetts</td>\n",
       "      <td>S</td>\n",
       "      <td>Maroon</td>\n",
       "      <td>Spring</td>\n",
       "      <td>3.1</td>\n",
       "      <td>Yes</td>\n",
       "      <td>Free Shipping</td>\n",
       "      <td>Yes</td>\n",
       "      <td>Yes</td>\n",
       "      <td>23</td>\n",
       "      <td>Credit Card</td>\n",
       "      <td>Weekly</td>\n",
       "    </tr>\n",
       "    <tr>\n",
       "      <th>3</th>\n",
       "      <td>4</td>\n",
       "      <td>21</td>\n",
       "      <td>Male</td>\n",
       "      <td>Sandals</td>\n",
       "      <td>Footwear</td>\n",
       "      <td>90</td>\n",
       "      <td>Rhode Island</td>\n",
       "      <td>M</td>\n",
       "      <td>Maroon</td>\n",
       "      <td>Spring</td>\n",
       "      <td>3.5</td>\n",
       "      <td>Yes</td>\n",
       "      <td>Next Day Air</td>\n",
       "      <td>Yes</td>\n",
       "      <td>Yes</td>\n",
       "      <td>49</td>\n",
       "      <td>PayPal</td>\n",
       "      <td>Weekly</td>\n",
       "    </tr>\n",
       "    <tr>\n",
       "      <th>4</th>\n",
       "      <td>5</td>\n",
       "      <td>45</td>\n",
       "      <td>Male</td>\n",
       "      <td>Blouse</td>\n",
       "      <td>Clothing</td>\n",
       "      <td>49</td>\n",
       "      <td>Oregon</td>\n",
       "      <td>M</td>\n",
       "      <td>Turquoise</td>\n",
       "      <td>Spring</td>\n",
       "      <td>2.7</td>\n",
       "      <td>Yes</td>\n",
       "      <td>Free Shipping</td>\n",
       "      <td>Yes</td>\n",
       "      <td>Yes</td>\n",
       "      <td>31</td>\n",
       "      <td>PayPal</td>\n",
       "      <td>Annually</td>\n",
       "    </tr>\n",
       "  </tbody>\n",
       "</table>\n",
       "</div>"
      ],
      "text/plain": [
       "   Customer ID  Age Gender Item Purchased  Category  Purchase Amount (USD)  \\\n",
       "0            1   55   Male         Blouse  Clothing                     53   \n",
       "1            2   19   Male        Sweater  Clothing                     64   \n",
       "2            3   50   Male          Jeans  Clothing                     73   \n",
       "3            4   21   Male        Sandals  Footwear                     90   \n",
       "4            5   45   Male         Blouse  Clothing                     49   \n",
       "\n",
       "        Location Size      Color  Season  Review Rating Subscription Status  \\\n",
       "0       Kentucky    L       Gray  Winter            3.1                 Yes   \n",
       "1          Maine    L     Maroon  Winter            3.1                 Yes   \n",
       "2  Massachusetts    S     Maroon  Spring            3.1                 Yes   \n",
       "3   Rhode Island    M     Maroon  Spring            3.5                 Yes   \n",
       "4         Oregon    M  Turquoise  Spring            2.7                 Yes   \n",
       "\n",
       "   Shipping Type Discount Applied Promo Code Used  Previous Purchases  \\\n",
       "0        Express              Yes             Yes                  14   \n",
       "1        Express              Yes             Yes                   2   \n",
       "2  Free Shipping              Yes             Yes                  23   \n",
       "3   Next Day Air              Yes             Yes                  49   \n",
       "4  Free Shipping              Yes             Yes                  31   \n",
       "\n",
       "  Payment Method Frequency of Purchases  \n",
       "0          Venmo            Fortnightly  \n",
       "1           Cash            Fortnightly  \n",
       "2    Credit Card                 Weekly  \n",
       "3         PayPal                 Weekly  \n",
       "4         PayPal               Annually  "
      ]
     },
     "execution_count": 25,
     "metadata": {},
     "output_type": "execute_result"
    }
   ],
   "source": [
    "df=pd.read_csv('customer_shopping_behavior.csv')\n",
    "df.head(5)"
   ]
  },
  {
   "cell_type": "markdown",
   "id": "95fbcb60",
   "metadata": {},
   "source": [
    "### 3. 🧾 Checking Dataset Information"
   ]
  },
  {
   "cell_type": "code",
   "execution_count": 26,
   "id": "102d2412",
   "metadata": {},
   "outputs": [
    {
     "name": "stdout",
     "output_type": "stream",
     "text": [
      "<class 'pandas.core.frame.DataFrame'>\n",
      "RangeIndex: 3900 entries, 0 to 3899\n",
      "Data columns (total 18 columns):\n",
      " #   Column                  Non-Null Count  Dtype  \n",
      "---  ------                  --------------  -----  \n",
      " 0   Customer ID             3900 non-null   int64  \n",
      " 1   Age                     3900 non-null   int64  \n",
      " 2   Gender                  3900 non-null   object \n",
      " 3   Item Purchased          3900 non-null   object \n",
      " 4   Category                3900 non-null   object \n",
      " 5   Purchase Amount (USD)   3900 non-null   int64  \n",
      " 6   Location                3900 non-null   object \n",
      " 7   Size                    3900 non-null   object \n",
      " 8   Color                   3900 non-null   object \n",
      " 9   Season                  3900 non-null   object \n",
      " 10  Review Rating           3863 non-null   float64\n",
      " 11  Subscription Status     3900 non-null   object \n",
      " 12  Shipping Type           3900 non-null   object \n",
      " 13  Discount Applied        3900 non-null   object \n",
      " 14  Promo Code Used         3900 non-null   object \n",
      " 15  Previous Purchases      3900 non-null   int64  \n",
      " 16  Payment Method          3900 non-null   object \n",
      " 17  Frequency of Purchases  3900 non-null   object \n",
      "dtypes: float64(1), int64(4), object(13)\n",
      "memory usage: 548.6+ KB\n"
     ]
    }
   ],
   "source": [
    "df.info()"
   ]
  },
  {
   "cell_type": "markdown",
   "id": "ddcc0099",
   "metadata": {},
   "source": [
    "### 4. 📊 Descriptive Statistics of Dataset"
   ]
  },
  {
   "cell_type": "code",
   "execution_count": 27,
   "id": "d7be0e66",
   "metadata": {},
   "outputs": [
    {
     "data": {
      "text/html": [
       "<div>\n",
       "<style scoped>\n",
       "    .dataframe tbody tr th:only-of-type {\n",
       "        vertical-align: middle;\n",
       "    }\n",
       "\n",
       "    .dataframe tbody tr th {\n",
       "        vertical-align: top;\n",
       "    }\n",
       "\n",
       "    .dataframe thead th {\n",
       "        text-align: right;\n",
       "    }\n",
       "</style>\n",
       "<table border=\"1\" class=\"dataframe\">\n",
       "  <thead>\n",
       "    <tr style=\"text-align: right;\">\n",
       "      <th></th>\n",
       "      <th>count</th>\n",
       "      <th>unique</th>\n",
       "      <th>top</th>\n",
       "      <th>freq</th>\n",
       "      <th>mean</th>\n",
       "      <th>std</th>\n",
       "      <th>min</th>\n",
       "      <th>25%</th>\n",
       "      <th>50%</th>\n",
       "      <th>75%</th>\n",
       "      <th>max</th>\n",
       "    </tr>\n",
       "  </thead>\n",
       "  <tbody>\n",
       "    <tr>\n",
       "      <th>Customer ID</th>\n",
       "      <td>3900.0</td>\n",
       "      <td>NaN</td>\n",
       "      <td>NaN</td>\n",
       "      <td>NaN</td>\n",
       "      <td>1950.5</td>\n",
       "      <td>1125.977353</td>\n",
       "      <td>1.0</td>\n",
       "      <td>975.75</td>\n",
       "      <td>1950.5</td>\n",
       "      <td>2925.25</td>\n",
       "      <td>3900.0</td>\n",
       "    </tr>\n",
       "    <tr>\n",
       "      <th>Age</th>\n",
       "      <td>3900.0</td>\n",
       "      <td>NaN</td>\n",
       "      <td>NaN</td>\n",
       "      <td>NaN</td>\n",
       "      <td>44.068462</td>\n",
       "      <td>15.207589</td>\n",
       "      <td>18.0</td>\n",
       "      <td>31.0</td>\n",
       "      <td>44.0</td>\n",
       "      <td>57.0</td>\n",
       "      <td>70.0</td>\n",
       "    </tr>\n",
       "    <tr>\n",
       "      <th>Gender</th>\n",
       "      <td>3900</td>\n",
       "      <td>2</td>\n",
       "      <td>Male</td>\n",
       "      <td>2652</td>\n",
       "      <td>NaN</td>\n",
       "      <td>NaN</td>\n",
       "      <td>NaN</td>\n",
       "      <td>NaN</td>\n",
       "      <td>NaN</td>\n",
       "      <td>NaN</td>\n",
       "      <td>NaN</td>\n",
       "    </tr>\n",
       "    <tr>\n",
       "      <th>Item Purchased</th>\n",
       "      <td>3900</td>\n",
       "      <td>25</td>\n",
       "      <td>Blouse</td>\n",
       "      <td>171</td>\n",
       "      <td>NaN</td>\n",
       "      <td>NaN</td>\n",
       "      <td>NaN</td>\n",
       "      <td>NaN</td>\n",
       "      <td>NaN</td>\n",
       "      <td>NaN</td>\n",
       "      <td>NaN</td>\n",
       "    </tr>\n",
       "    <tr>\n",
       "      <th>Category</th>\n",
       "      <td>3900</td>\n",
       "      <td>4</td>\n",
       "      <td>Clothing</td>\n",
       "      <td>1737</td>\n",
       "      <td>NaN</td>\n",
       "      <td>NaN</td>\n",
       "      <td>NaN</td>\n",
       "      <td>NaN</td>\n",
       "      <td>NaN</td>\n",
       "      <td>NaN</td>\n",
       "      <td>NaN</td>\n",
       "    </tr>\n",
       "    <tr>\n",
       "      <th>Purchase Amount (USD)</th>\n",
       "      <td>3900.0</td>\n",
       "      <td>NaN</td>\n",
       "      <td>NaN</td>\n",
       "      <td>NaN</td>\n",
       "      <td>59.764359</td>\n",
       "      <td>23.685392</td>\n",
       "      <td>20.0</td>\n",
       "      <td>39.0</td>\n",
       "      <td>60.0</td>\n",
       "      <td>81.0</td>\n",
       "      <td>100.0</td>\n",
       "    </tr>\n",
       "    <tr>\n",
       "      <th>Location</th>\n",
       "      <td>3900</td>\n",
       "      <td>50</td>\n",
       "      <td>Montana</td>\n",
       "      <td>96</td>\n",
       "      <td>NaN</td>\n",
       "      <td>NaN</td>\n",
       "      <td>NaN</td>\n",
       "      <td>NaN</td>\n",
       "      <td>NaN</td>\n",
       "      <td>NaN</td>\n",
       "      <td>NaN</td>\n",
       "    </tr>\n",
       "    <tr>\n",
       "      <th>Size</th>\n",
       "      <td>3900</td>\n",
       "      <td>4</td>\n",
       "      <td>M</td>\n",
       "      <td>1755</td>\n",
       "      <td>NaN</td>\n",
       "      <td>NaN</td>\n",
       "      <td>NaN</td>\n",
       "      <td>NaN</td>\n",
       "      <td>NaN</td>\n",
       "      <td>NaN</td>\n",
       "      <td>NaN</td>\n",
       "    </tr>\n",
       "    <tr>\n",
       "      <th>Color</th>\n",
       "      <td>3900</td>\n",
       "      <td>25</td>\n",
       "      <td>Olive</td>\n",
       "      <td>177</td>\n",
       "      <td>NaN</td>\n",
       "      <td>NaN</td>\n",
       "      <td>NaN</td>\n",
       "      <td>NaN</td>\n",
       "      <td>NaN</td>\n",
       "      <td>NaN</td>\n",
       "      <td>NaN</td>\n",
       "    </tr>\n",
       "    <tr>\n",
       "      <th>Season</th>\n",
       "      <td>3900</td>\n",
       "      <td>4</td>\n",
       "      <td>Spring</td>\n",
       "      <td>999</td>\n",
       "      <td>NaN</td>\n",
       "      <td>NaN</td>\n",
       "      <td>NaN</td>\n",
       "      <td>NaN</td>\n",
       "      <td>NaN</td>\n",
       "      <td>NaN</td>\n",
       "      <td>NaN</td>\n",
       "    </tr>\n",
       "    <tr>\n",
       "      <th>Review Rating</th>\n",
       "      <td>3863.0</td>\n",
       "      <td>NaN</td>\n",
       "      <td>NaN</td>\n",
       "      <td>NaN</td>\n",
       "      <td>3.750065</td>\n",
       "      <td>0.716983</td>\n",
       "      <td>2.5</td>\n",
       "      <td>3.1</td>\n",
       "      <td>3.8</td>\n",
       "      <td>4.4</td>\n",
       "      <td>5.0</td>\n",
       "    </tr>\n",
       "    <tr>\n",
       "      <th>Subscription Status</th>\n",
       "      <td>3900</td>\n",
       "      <td>2</td>\n",
       "      <td>No</td>\n",
       "      <td>2847</td>\n",
       "      <td>NaN</td>\n",
       "      <td>NaN</td>\n",
       "      <td>NaN</td>\n",
       "      <td>NaN</td>\n",
       "      <td>NaN</td>\n",
       "      <td>NaN</td>\n",
       "      <td>NaN</td>\n",
       "    </tr>\n",
       "    <tr>\n",
       "      <th>Shipping Type</th>\n",
       "      <td>3900</td>\n",
       "      <td>6</td>\n",
       "      <td>Free Shipping</td>\n",
       "      <td>675</td>\n",
       "      <td>NaN</td>\n",
       "      <td>NaN</td>\n",
       "      <td>NaN</td>\n",
       "      <td>NaN</td>\n",
       "      <td>NaN</td>\n",
       "      <td>NaN</td>\n",
       "      <td>NaN</td>\n",
       "    </tr>\n",
       "    <tr>\n",
       "      <th>Discount Applied</th>\n",
       "      <td>3900</td>\n",
       "      <td>2</td>\n",
       "      <td>No</td>\n",
       "      <td>2223</td>\n",
       "      <td>NaN</td>\n",
       "      <td>NaN</td>\n",
       "      <td>NaN</td>\n",
       "      <td>NaN</td>\n",
       "      <td>NaN</td>\n",
       "      <td>NaN</td>\n",
       "      <td>NaN</td>\n",
       "    </tr>\n",
       "    <tr>\n",
       "      <th>Promo Code Used</th>\n",
       "      <td>3900</td>\n",
       "      <td>2</td>\n",
       "      <td>No</td>\n",
       "      <td>2223</td>\n",
       "      <td>NaN</td>\n",
       "      <td>NaN</td>\n",
       "      <td>NaN</td>\n",
       "      <td>NaN</td>\n",
       "      <td>NaN</td>\n",
       "      <td>NaN</td>\n",
       "      <td>NaN</td>\n",
       "    </tr>\n",
       "    <tr>\n",
       "      <th>Previous Purchases</th>\n",
       "      <td>3900.0</td>\n",
       "      <td>NaN</td>\n",
       "      <td>NaN</td>\n",
       "      <td>NaN</td>\n",
       "      <td>25.351538</td>\n",
       "      <td>14.447125</td>\n",
       "      <td>1.0</td>\n",
       "      <td>13.0</td>\n",
       "      <td>25.0</td>\n",
       "      <td>38.0</td>\n",
       "      <td>50.0</td>\n",
       "    </tr>\n",
       "    <tr>\n",
       "      <th>Payment Method</th>\n",
       "      <td>3900</td>\n",
       "      <td>6</td>\n",
       "      <td>PayPal</td>\n",
       "      <td>677</td>\n",
       "      <td>NaN</td>\n",
       "      <td>NaN</td>\n",
       "      <td>NaN</td>\n",
       "      <td>NaN</td>\n",
       "      <td>NaN</td>\n",
       "      <td>NaN</td>\n",
       "      <td>NaN</td>\n",
       "    </tr>\n",
       "    <tr>\n",
       "      <th>Frequency of Purchases</th>\n",
       "      <td>3900</td>\n",
       "      <td>7</td>\n",
       "      <td>Every 3 Months</td>\n",
       "      <td>584</td>\n",
       "      <td>NaN</td>\n",
       "      <td>NaN</td>\n",
       "      <td>NaN</td>\n",
       "      <td>NaN</td>\n",
       "      <td>NaN</td>\n",
       "      <td>NaN</td>\n",
       "      <td>NaN</td>\n",
       "    </tr>\n",
       "  </tbody>\n",
       "</table>\n",
       "</div>"
      ],
      "text/plain": [
       "                         count unique             top  freq       mean  \\\n",
       "Customer ID             3900.0    NaN             NaN   NaN     1950.5   \n",
       "Age                     3900.0    NaN             NaN   NaN  44.068462   \n",
       "Gender                    3900      2            Male  2652        NaN   \n",
       "Item Purchased            3900     25          Blouse   171        NaN   \n",
       "Category                  3900      4        Clothing  1737        NaN   \n",
       "Purchase Amount (USD)   3900.0    NaN             NaN   NaN  59.764359   \n",
       "Location                  3900     50         Montana    96        NaN   \n",
       "Size                      3900      4               M  1755        NaN   \n",
       "Color                     3900     25           Olive   177        NaN   \n",
       "Season                    3900      4          Spring   999        NaN   \n",
       "Review Rating           3863.0    NaN             NaN   NaN   3.750065   \n",
       "Subscription Status       3900      2              No  2847        NaN   \n",
       "Shipping Type             3900      6   Free Shipping   675        NaN   \n",
       "Discount Applied          3900      2              No  2223        NaN   \n",
       "Promo Code Used           3900      2              No  2223        NaN   \n",
       "Previous Purchases      3900.0    NaN             NaN   NaN  25.351538   \n",
       "Payment Method            3900      6          PayPal   677        NaN   \n",
       "Frequency of Purchases    3900      7  Every 3 Months   584        NaN   \n",
       "\n",
       "                                std   min     25%     50%      75%     max  \n",
       "Customer ID             1125.977353   1.0  975.75  1950.5  2925.25  3900.0  \n",
       "Age                       15.207589  18.0    31.0    44.0     57.0    70.0  \n",
       "Gender                          NaN   NaN     NaN     NaN      NaN     NaN  \n",
       "Item Purchased                  NaN   NaN     NaN     NaN      NaN     NaN  \n",
       "Category                        NaN   NaN     NaN     NaN      NaN     NaN  \n",
       "Purchase Amount (USD)     23.685392  20.0    39.0    60.0     81.0   100.0  \n",
       "Location                        NaN   NaN     NaN     NaN      NaN     NaN  \n",
       "Size                            NaN   NaN     NaN     NaN      NaN     NaN  \n",
       "Color                           NaN   NaN     NaN     NaN      NaN     NaN  \n",
       "Season                          NaN   NaN     NaN     NaN      NaN     NaN  \n",
       "Review Rating              0.716983   2.5     3.1     3.8      4.4     5.0  \n",
       "Subscription Status             NaN   NaN     NaN     NaN      NaN     NaN  \n",
       "Shipping Type                   NaN   NaN     NaN     NaN      NaN     NaN  \n",
       "Discount Applied                NaN   NaN     NaN     NaN      NaN     NaN  \n",
       "Promo Code Used                 NaN   NaN     NaN     NaN      NaN     NaN  \n",
       "Previous Purchases        14.447125   1.0    13.0    25.0     38.0    50.0  \n",
       "Payment Method                  NaN   NaN     NaN     NaN      NaN     NaN  \n",
       "Frequency of Purchases          NaN   NaN     NaN     NaN      NaN     NaN  "
      ]
     },
     "execution_count": 27,
     "metadata": {},
     "output_type": "execute_result"
    }
   ],
   "source": [
    "df.describe(include='all').T"
   ]
  },
  {
   "cell_type": "markdown",
   "id": "4dff7957",
   "metadata": {},
   "source": [
    "### 5. 🔍 Checking for Missing Values"
   ]
  },
  {
   "cell_type": "code",
   "execution_count": 28,
   "id": "642c471c",
   "metadata": {},
   "outputs": [
    {
     "data": {
      "text/plain": [
       "Customer ID                0\n",
       "Age                        0\n",
       "Gender                     0\n",
       "Item Purchased             0\n",
       "Category                   0\n",
       "Purchase Amount (USD)      0\n",
       "Location                   0\n",
       "Size                       0\n",
       "Color                      0\n",
       "Season                     0\n",
       "Review Rating             37\n",
       "Subscription Status        0\n",
       "Shipping Type              0\n",
       "Discount Applied           0\n",
       "Promo Code Used            0\n",
       "Previous Purchases         0\n",
       "Payment Method             0\n",
       "Frequency of Purchases     0\n",
       "dtype: int64"
      ]
     },
     "execution_count": 28,
     "metadata": {},
     "output_type": "execute_result"
    }
   ],
   "source": [
    "df.isnull().sum()"
   ]
  },
  {
   "cell_type": "markdown",
   "id": "b537bf4a",
   "metadata": {},
   "source": [
    "### 6. ⭐ Handling Missing Values in Review Ratings"
   ]
  },
  {
   "cell_type": "code",
   "execution_count": 29,
   "id": "556e7143",
   "metadata": {},
   "outputs": [],
   "source": [
    "df['Review Rating']=df.groupby('Category')['Review Rating'].transform(lambda x: x.fillna(x.median()))"
   ]
  },
  {
   "cell_type": "code",
   "execution_count": 30,
   "id": "dc811091",
   "metadata": {},
   "outputs": [
    {
     "data": {
      "text/plain": [
       "Customer ID               0\n",
       "Age                       0\n",
       "Gender                    0\n",
       "Item Purchased            0\n",
       "Category                  0\n",
       "Purchase Amount (USD)     0\n",
       "Location                  0\n",
       "Size                      0\n",
       "Color                     0\n",
       "Season                    0\n",
       "Review Rating             0\n",
       "Subscription Status       0\n",
       "Shipping Type             0\n",
       "Discount Applied          0\n",
       "Promo Code Used           0\n",
       "Previous Purchases        0\n",
       "Payment Method            0\n",
       "Frequency of Purchases    0\n",
       "dtype: int64"
      ]
     },
     "execution_count": 30,
     "metadata": {},
     "output_type": "execute_result"
    }
   ],
   "source": [
    "df.isnull().sum()"
   ]
  },
  {
   "cell_type": "markdown",
   "id": "6f2abc48",
   "metadata": {},
   "source": [
    "### 7. 🏷️ Standardizing Column Names"
   ]
  },
  {
   "cell_type": "code",
   "execution_count": 31,
   "id": "28e0316d",
   "metadata": {},
   "outputs": [
    {
     "data": {
      "text/plain": [
       "Index(['customer_id', 'age', 'gender', 'item_purchased', 'category',\n",
       "       'purchase_amount', 'location', 'size', 'color', 'season',\n",
       "       'review_rating', 'subscription_status', 'shipping_type',\n",
       "       'discount_applied', 'promo_code_used', 'previous_purchases',\n",
       "       'payment_method', 'frequency_of_purchases'],\n",
       "      dtype='object')"
      ]
     },
     "execution_count": 31,
     "metadata": {},
     "output_type": "execute_result"
    }
   ],
   "source": [
    "df.columns=df.columns.str.lower()\n",
    "df.columns=df.columns.str.replace(' ','_')\n",
    "df=df.rename(columns={'purchase_amount_(usd)':'purchase_amount'})\n",
    "df.columns"
   ]
  },
  {
   "cell_type": "markdown",
   "id": "158d895d",
   "metadata": {},
   "source": [
    "### 8. 👥 Creating Age Group Categories\n",
    "\n",
    "#### 📘 What It Is & Why It’s Used  \n",
    "This step creates a new column `age_group` that divides customers into **Young Adult, Adult, Middle-Aged, and Senior** based on their age. \n",
    " \n",
    "It helps **segment customers by age**, analyze **shopping trends and preferences** for each group, and supports **targeted marketing and personalized strategies**.\n"
   ]
  },
  {
   "cell_type": "code",
   "execution_count": 32,
   "id": "6cf3eeaa",
   "metadata": {},
   "outputs": [],
   "source": [
    "#create a column age_group\n",
    "labels=['Young Adult','Adult', 'Middle-Aged','Senior']\n",
    "df['age_group']=pd.qcut(df['age'],q=4,labels=labels)"
   ]
  },
  {
   "cell_type": "code",
   "execution_count": 33,
   "id": "775e66c0",
   "metadata": {},
   "outputs": [
    {
     "data": {
      "text/html": [
       "<div>\n",
       "<style scoped>\n",
       "    .dataframe tbody tr th:only-of-type {\n",
       "        vertical-align: middle;\n",
       "    }\n",
       "\n",
       "    .dataframe tbody tr th {\n",
       "        vertical-align: top;\n",
       "    }\n",
       "\n",
       "    .dataframe thead th {\n",
       "        text-align: right;\n",
       "    }\n",
       "</style>\n",
       "<table border=\"1\" class=\"dataframe\">\n",
       "  <thead>\n",
       "    <tr style=\"text-align: right;\">\n",
       "      <th></th>\n",
       "      <th>age</th>\n",
       "      <th>age_group</th>\n",
       "    </tr>\n",
       "  </thead>\n",
       "  <tbody>\n",
       "    <tr>\n",
       "      <th>0</th>\n",
       "      <td>55</td>\n",
       "      <td>Middle-Aged</td>\n",
       "    </tr>\n",
       "    <tr>\n",
       "      <th>1</th>\n",
       "      <td>19</td>\n",
       "      <td>Young Adult</td>\n",
       "    </tr>\n",
       "    <tr>\n",
       "      <th>2</th>\n",
       "      <td>50</td>\n",
       "      <td>Middle-Aged</td>\n",
       "    </tr>\n",
       "    <tr>\n",
       "      <th>3</th>\n",
       "      <td>21</td>\n",
       "      <td>Young Adult</td>\n",
       "    </tr>\n",
       "    <tr>\n",
       "      <th>4</th>\n",
       "      <td>45</td>\n",
       "      <td>Middle-Aged</td>\n",
       "    </tr>\n",
       "    <tr>\n",
       "      <th>5</th>\n",
       "      <td>46</td>\n",
       "      <td>Middle-Aged</td>\n",
       "    </tr>\n",
       "    <tr>\n",
       "      <th>6</th>\n",
       "      <td>63</td>\n",
       "      <td>Senior</td>\n",
       "    </tr>\n",
       "    <tr>\n",
       "      <th>7</th>\n",
       "      <td>27</td>\n",
       "      <td>Young Adult</td>\n",
       "    </tr>\n",
       "    <tr>\n",
       "      <th>8</th>\n",
       "      <td>26</td>\n",
       "      <td>Young Adult</td>\n",
       "    </tr>\n",
       "    <tr>\n",
       "      <th>9</th>\n",
       "      <td>57</td>\n",
       "      <td>Middle-Aged</td>\n",
       "    </tr>\n",
       "  </tbody>\n",
       "</table>\n",
       "</div>"
      ],
      "text/plain": [
       "   age    age_group\n",
       "0   55  Middle-Aged\n",
       "1   19  Young Adult\n",
       "2   50  Middle-Aged\n",
       "3   21  Young Adult\n",
       "4   45  Middle-Aged\n",
       "5   46  Middle-Aged\n",
       "6   63       Senior\n",
       "7   27  Young Adult\n",
       "8   26  Young Adult\n",
       "9   57  Middle-Aged"
      ]
     },
     "execution_count": 33,
     "metadata": {},
     "output_type": "execute_result"
    }
   ],
   "source": [
    "df[['age','age_group']].head(10)"
   ]
  },
  {
   "cell_type": "markdown",
   "id": "53bd2397",
   "metadata": {},
   "source": [
    "### 9. 📅 Creating Purchase Frequency in Days\n",
    "\n",
    "#### 📘 What It Is & Why It’s Used  \n",
    "This step creates a new column `purchase_frequency_days` by converting categorical purchase frequencies (e.g., Weekly, Monthly, Annually) into **numerical days**.  \n",
    "It allows the company to **quantify how often customers make purchases**, supporting **loyalty analysis, marketing strategies, and sales forecasting**.\n"
   ]
  },
  {
   "cell_type": "code",
   "execution_count": 34,
   "id": "4fff6d1c",
   "metadata": {},
   "outputs": [
    {
     "data": {
      "text/plain": [
       "array(['Fortnightly', 'Weekly', 'Annually', 'Quarterly', 'Bi-Weekly',\n",
       "       'Monthly', 'Every 3 Months'], dtype=object)"
      ]
     },
     "execution_count": 34,
     "metadata": {},
     "output_type": "execute_result"
    }
   ],
   "source": [
    "df['frequency_of_purchases'].unique()"
   ]
  },
  {
   "cell_type": "code",
   "execution_count": 35,
   "id": "23427cc5",
   "metadata": {},
   "outputs": [],
   "source": [
    "#create a column purchase_frequency_days\n",
    "frequency_map = {\n",
    "    'Fortnightly': 14,   # 14 days\n",
    "    'Weekly': 7,         # 7 days\n",
    "    'Annually': 365,     # 365 days\n",
    "    'Quarterly': 90,     # ~90 days\n",
    "    'Bi-Weekly': 14,    # same as fortnightly (2 weeks)\n",
    "    'Monthly' : 30,      #30 days\n",
    "    'Every 3 Months':90 #90 days\n",
    "}\n",
    "df['purchase_frequency_days']=df['frequency_of_purchases'].map(frequency_map)"
   ]
  },
  {
   "cell_type": "code",
   "execution_count": 36,
   "metadata": {},
   "outputs": [
    {
     "data": {
      "text/html": [
       "<div>\n",
       "<style scoped>\n",
       "    .dataframe tbody tr th:only-of-type {\n",
       "        vertical-align: middle;\n",
       "    }\n",
       "\n",
       "    .dataframe tbody tr th {\n",
       "        vertical-align: top;\n",
       "    }\n",
       "\n",
       "    .dataframe thead th {\n",
       "        text-align: right;\n",
       "    }\n",
       "</style>\n",
       "<table border=\"1\" class=\"dataframe\">\n",
       "  <thead>\n",
       "    <tr style=\"text-align: right;\">\n",
       "      <th></th>\n",
       "      <th>frequency_of_purchases</th>\n",
       "      <th>purchase_frequency_days</th>\n",
       "    </tr>\n",
       "  </thead>\n",
       "  <tbody>\n",
       "    <tr>\n",
       "      <th>0</th>\n",
       "      <td>Fortnightly</td>\n",
       "      <td>14</td>\n",
       "    </tr>\n",
       "    <tr>\n",
       "      <th>1</th>\n",
       "      <td>Fortnightly</td>\n",
       "      <td>14</td>\n",
       "    </tr>\n",
       "    <tr>\n",
       "      <th>2</th>\n",
       "      <td>Weekly</td>\n",
       "      <td>7</td>\n",
       "    </tr>\n",
       "    <tr>\n",
       "      <th>3</th>\n",
       "      <td>Weekly</td>\n",
       "      <td>7</td>\n",
       "    </tr>\n",
       "    <tr>\n",
       "      <th>4</th>\n",
       "      <td>Annually</td>\n",
       "      <td>365</td>\n",
       "    </tr>\n",
       "    <tr>\n",
       "      <th>5</th>\n",
       "      <td>Weekly</td>\n",
       "      <td>7</td>\n",
       "    </tr>\n",
       "    <tr>\n",
       "      <th>6</th>\n",
       "      <td>Quarterly</td>\n",
       "      <td>90</td>\n",
       "    </tr>\n",
       "    <tr>\n",
       "      <th>7</th>\n",
       "      <td>Weekly</td>\n",
       "      <td>7</td>\n",
       "    </tr>\n",
       "    <tr>\n",
       "      <th>8</th>\n",
       "      <td>Annually</td>\n",
       "      <td>365</td>\n",
       "    </tr>\n",
       "    <tr>\n",
       "      <th>9</th>\n",
       "      <td>Quarterly</td>\n",
       "      <td>90</td>\n",
       "    </tr>\n",
       "  </tbody>\n",
       "</table>\n",
       "</div>"
      ],
      "text/plain": [
       "  frequency_of_purchases  purchase_frequency_days\n",
       "0            Fortnightly                       14\n",
       "1            Fortnightly                       14\n",
       "2                 Weekly                        7\n",
       "3                 Weekly                        7\n",
       "4               Annually                      365\n",
       "5                 Weekly                        7\n",
       "6              Quarterly                       90\n",
       "7                 Weekly                        7\n",
       "8               Annually                      365\n",
       "9              Quarterly                       90"
      ]
     },
     "execution_count": 36,
     "metadata": {},
     "output_type": "execute_result"
    }
   ],
   "source": [
    "df[['frequency_of_purchases','purchase_frequency_days']].head(10)\n",
    "df['purchase_frequency_days']=df['purchase_frequency_days'].astype(int)\n",
    "df[['frequency_of_purchases','purchase_frequency_days']].head(10)"
   ]
  },
  {
   "cell_type": "markdown",
   "id": "31b6557a",
   "metadata": {},
   "source": [
    "### 10. 🎁 Cleaning Promo Code Column\n",
    "\n",
    "#### 📘 What It Is & Why It’s Used  \n",
    "This step compares the `promo_code_used` and `discount_applied` columns and finds them identical, so it **drops the redundant `promo_code_used` column**.  \n",
    "It simplifies the dataset, making it **cleaner and easier to analyze**.\n"
   ]
  },
  {
   "cell_type": "code",
   "execution_count": 37,
   "id": "0ff67232",
   "metadata": {},
   "outputs": [
    {
     "data": {
      "text/html": [
       "<div>\n",
       "<style scoped>\n",
       "    .dataframe tbody tr th:only-of-type {\n",
       "        vertical-align: middle;\n",
       "    }\n",
       "\n",
       "    .dataframe tbody tr th {\n",
       "        vertical-align: top;\n",
       "    }\n",
       "\n",
       "    .dataframe thead th {\n",
       "        text-align: right;\n",
       "    }\n",
       "</style>\n",
       "<table border=\"1\" class=\"dataframe\">\n",
       "  <thead>\n",
       "    <tr style=\"text-align: right;\">\n",
       "      <th></th>\n",
       "      <th>promo_code_used</th>\n",
       "      <th>discount_applied</th>\n",
       "    </tr>\n",
       "  </thead>\n",
       "  <tbody>\n",
       "    <tr>\n",
       "      <th>0</th>\n",
       "      <td>Yes</td>\n",
       "      <td>Yes</td>\n",
       "    </tr>\n",
       "    <tr>\n",
       "      <th>1</th>\n",
       "      <td>Yes</td>\n",
       "      <td>Yes</td>\n",
       "    </tr>\n",
       "    <tr>\n",
       "      <th>2</th>\n",
       "      <td>Yes</td>\n",
       "      <td>Yes</td>\n",
       "    </tr>\n",
       "    <tr>\n",
       "      <th>3</th>\n",
       "      <td>Yes</td>\n",
       "      <td>Yes</td>\n",
       "    </tr>\n",
       "    <tr>\n",
       "      <th>4</th>\n",
       "      <td>Yes</td>\n",
       "      <td>Yes</td>\n",
       "    </tr>\n",
       "    <tr>\n",
       "      <th>5</th>\n",
       "      <td>Yes</td>\n",
       "      <td>Yes</td>\n",
       "    </tr>\n",
       "    <tr>\n",
       "      <th>6</th>\n",
       "      <td>Yes</td>\n",
       "      <td>Yes</td>\n",
       "    </tr>\n",
       "    <tr>\n",
       "      <th>7</th>\n",
       "      <td>Yes</td>\n",
       "      <td>Yes</td>\n",
       "    </tr>\n",
       "    <tr>\n",
       "      <th>8</th>\n",
       "      <td>Yes</td>\n",
       "      <td>Yes</td>\n",
       "    </tr>\n",
       "    <tr>\n",
       "      <th>9</th>\n",
       "      <td>Yes</td>\n",
       "      <td>Yes</td>\n",
       "    </tr>\n",
       "  </tbody>\n",
       "</table>\n",
       "</div>"
      ],
      "text/plain": [
       "  promo_code_used discount_applied\n",
       "0             Yes              Yes\n",
       "1             Yes              Yes\n",
       "2             Yes              Yes\n",
       "3             Yes              Yes\n",
       "4             Yes              Yes\n",
       "5             Yes              Yes\n",
       "6             Yes              Yes\n",
       "7             Yes              Yes\n",
       "8             Yes              Yes\n",
       "9             Yes              Yes"
      ]
     },
     "execution_count": 37,
     "metadata": {},
     "output_type": "execute_result"
    }
   ],
   "source": [
    "df[['promo_code_used','discount_applied']].head(10)"
   ]
  },
  {
   "cell_type": "code",
   "execution_count": 38,
   "id": "447da1e4",
   "metadata": {},
   "outputs": [
    {
     "data": {
      "text/plain": [
       "np.True_"
      ]
     },
     "execution_count": 38,
     "metadata": {},
     "output_type": "execute_result"
    }
   ],
   "source": [
    "(df['promo_code_used']==df['discount_applied']).all()"
   ]
  },
  {
   "cell_type": "code",
   "execution_count": 39,
   "id": "9f089ef9",
   "metadata": {},
   "outputs": [
    {
     "data": {
      "text/plain": [
       "Index(['customer_id', 'age', 'gender', 'item_purchased', 'category',\n",
       "       'purchase_amount', 'location', 'size', 'color', 'season',\n",
       "       'review_rating', 'subscription_status', 'shipping_type',\n",
       "       'discount_applied', 'previous_purchases', 'payment_method',\n",
       "       'frequency_of_purchases', 'age_group', 'purchase_frequency_days'],\n",
       "      dtype='object')"
      ]
     },
     "execution_count": 39,
     "metadata": {},
     "output_type": "execute_result"
    }
   ],
   "source": [
    "df=df.drop('promo_code_used',axis=1)\n",
    "df.columns"
   ]
  },
  {
   "cell_type": "code",
   "execution_count": 40,
   "id": "785a0444",
   "metadata": {},
   "outputs": [
    {
     "data": {
      "text/plain": [
       "np.int64(0)"
      ]
     },
     "execution_count": 40,
     "metadata": {},
     "output_type": "execute_result"
    }
   ],
   "source": [
    "df.duplicated().sum()"
   ]
  },
  {
   "cell_type": "markdown",
   "id": "21fd6a14",
   "metadata": {},
   "source": [
    "### 11. 🛠️ Installing MySQL Connector\n",
    "\n",
    "#### 📘 What It Is & Why It’s Used  \n",
    "`!pip install mysql-connector-python` installs the **MySQL Connector library**, which allows Python to **connect and interact with MySQL databases**.  \n",
    "It is used to **fetch or store retail data in a MySQL database** for analysis.\n",
    "\n",
    "\n",
    "### 12. 🛠️ Installing SQLAlchemy\n",
    "\n",
    "#### 📘 What It Is & Why It’s Used  \n",
    "`!pip install SQLAlchemy` installs **SQLAlchemy**, a Python library for **database management and operations**.  \n",
    "It provides a **high-level interface to execute SQL queries**, manage database connections, and work with datasets efficiently.\n"
   ]
  },
  {
   "cell_type": "code",
   "execution_count": 41,
   "id": "72ebfeaf",
   "metadata": {},
   "outputs": [
    {
     "name": "stdout",
     "output_type": "stream",
     "text": [
      "Requirement already satisfied: mysql-connector-python in c:\\users\\user\\appdata\\local\\programs\\python\\python312\\lib\\site-packages (9.5.0)\n"
     ]
    },
    {
     "name": "stderr",
     "output_type": "stream",
     "text": [
      "WARNING: Ignoring invalid distribution ~cikit-learn (C:\\Users\\USER\\AppData\\Local\\Programs\\Python\\Python312\\Lib\\site-packages)\n",
      "WARNING: Ignoring invalid distribution ~cikit-learn (C:\\Users\\USER\\AppData\\Local\\Programs\\Python\\Python312\\Lib\\site-packages)\n",
      "WARNING: Ignoring invalid distribution ~cikit-learn (C:\\Users\\USER\\AppData\\Local\\Programs\\Python\\Python312\\Lib\\site-packages)\n"
     ]
    },
    {
     "name": "stdout",
     "output_type": "stream",
     "text": [
      "Requirement already satisfied: SQLAlchemy in c:\\users\\user\\appdata\\local\\programs\\python\\python312\\lib\\site-packages (2.0.44)\n",
      "Requirement already satisfied: greenlet>=1 in c:\\users\\user\\appdata\\local\\programs\\python\\python312\\lib\\site-packages (from SQLAlchemy) (3.2.4)\n",
      "Requirement already satisfied: typing-extensions>=4.6.0 in c:\\users\\user\\appdata\\local\\programs\\python\\python312\\lib\\site-packages (from SQLAlchemy) (4.12.2)\n"
     ]
    },
    {
     "name": "stderr",
     "output_type": "stream",
     "text": [
      "WARNING: Ignoring invalid distribution ~cikit-learn (C:\\Users\\USER\\AppData\\Local\\Programs\\Python\\Python312\\Lib\\site-packages)\n",
      "WARNING: Ignoring invalid distribution ~cikit-learn (C:\\Users\\USER\\AppData\\Local\\Programs\\Python\\Python312\\Lib\\site-packages)\n",
      "WARNING: Ignoring invalid distribution ~cikit-learn (C:\\Users\\USER\\AppData\\Local\\Programs\\Python\\Python312\\Lib\\site-packages)\n"
     ]
    }
   ],
   "source": [
    "!pip install mysql-connector-python\n",
    "!pip install SQLAlchemy\n"
   ]
  },
  {
   "cell_type": "markdown",
   "id": "209f488e",
   "metadata": {},
   "source": [
    "### 13. 🖥️ Checking Python Executable Path\n",
    "\n",
    "#### 📘 What It Is & Why It’s Used  \n",
    "This code prints the **path of the currently active Python interpreter**.  \n",
    "It helps ensure that the **correct Python environment** is being used, and that all required libraries are installed and accessible for the project.\n"
   ]
  },
  {
   "cell_type": "code",
   "execution_count": 42,
   "id": "d379b38d",
   "metadata": {},
   "outputs": [
    {
     "name": "stdout",
     "output_type": "stream",
     "text": [
      "c:\\Users\\USER\\AppData\\Local\\Programs\\Python\\Python311\\python.exe\n"
     ]
    }
   ],
   "source": [
    "import sys\n",
    "print(sys.executable)\n"
   ]
  },
  {
   "cell_type": "markdown",
   "id": "0f75af38",
   "metadata": {},
   "source": [
    "### 14. 🛠️ Installing MySQL Connector in Specific Python Environment\n",
    "\n",
    "#### 📘 What It Is & Why It’s Used  \n",
    "Installs the **MySQL Connector library** in a **specific Python environment** to ensure database connectivity.  \n",
    "This avoids conflicts in systems with multiple Python versions and ensures the project can access MySQL databases properly.\n"
   ]
  },
  {
   "cell_type": "code",
   "execution_count": 43,
   "id": "a45b57d3",
   "metadata": {},
   "outputs": [
    {
     "name": "stdout",
     "output_type": "stream",
     "text": [
      "Requirement already satisfied: mysql-connector-python in c:\\users\\user\\appdata\\local\\programs\\python\\python311\\lib\\site-packages (9.5.0)\n"
     ]
    },
    {
     "name": "stderr",
     "output_type": "stream",
     "text": [
      "\n",
      "[notice] A new release of pip is available: 23.1.2 -> 25.2\n",
      "[notice] To update, run: python.exe -m pip install --upgrade pip\n"
     ]
    }
   ],
   "source": [
    "!C:\\Users\\USER\\AppData\\Local\\Programs\\Python\\Python311\\python.exe -m pip install mysql-connector-python\n"
   ]
  },
  {
   "cell_type": "markdown",
   "id": "ae76af2c",
   "metadata": {},
   "source": [
    "### 15. ✅ Verifying MySQL Connector Installation\n",
    "\n",
    "#### 📘 What It Is & Why It’s Used  \n",
    "This code checks that **`mysql.connector` is properly installed** and working in the current Python environment.  \n",
    "It confirms that the project can **successfully connect to MySQL databases** for data analysis.\n"
   ]
  },
  {
   "cell_type": "code",
   "execution_count": 44,
   "id": "c84f04d3",
   "metadata": {},
   "outputs": [
    {
     "name": "stdout",
     "output_type": "stream",
     "text": [
      "mysql.connector is installed and working\n"
     ]
    }
   ],
   "source": [
    "import mysql.connector\n",
    "print(\"mysql.connector is installed and working\")"
   ]
  },
  {
   "cell_type": "markdown",
   "id": "eea7f5ad",
   "metadata": {},
   "source": [
    "### 16. 💾 Uploading Cleaned DataFrame to MySQL\n",
    "\n",
    "#### 📘 What It Is & Why It’s Used  \n",
    "This code connects Python to a **MySQL database** and uploads the **cleaned DataFrame** as a table.  \n",
    "It ensures that the retail data is **stored securely in the database**, ready for **SQL analysis and further processing**.\n"
   ]
  },
  {
   "cell_type": "code",
   "execution_count": 45,
   "id": "ce94b984",
   "metadata": {},
   "outputs": [
    {
     "name": "stdout",
     "output_type": "stream",
     "text": [
      "Data successfully saved to MySQL!\n"
     ]
    }
   ],
   "source": [
    "import pandas as pd\n",
    "from sqlalchemy import create_engine\n",
    "\n",
    "# Make sure df is your cleaned DataFrame\n",
    "# df = df.drop_duplicates()  # you already did this\n",
    "\n",
    "# MySQL connection details\n",
    "username = 'root'\n",
    "password = 'Ranga$2002'\n",
    "host = 'localhost'\n",
    "port = '3306'\n",
    "database = 'customer_behavior'\n",
    "\n",
    "# Create connection engine using pymysql\n",
    "engine = create_engine(f\"mysql+pymysql://{username}:{password}@{host}:{port}/{database}\")\n",
    "\n",
    "# Upload DataFrame to MySQL safely\n",
    "df.to_sql(\n",
    "    name='cleaned_data',   # table name in MySQL\n",
    "    con=engine,\n",
    "    if_exists='replace',   # replace table if it exists\n",
    "    index=False,           # don't write DataFrame index as a column\n",
    "    chunksize=500          # optional: send in batches of 500 rows\n",
    ")\n",
    "\n",
    "print(\"Data successfully saved to MySQL!\")\n"
   ]
  },
  {
   "cell_type": "markdown",
   "id": "1c43236a",
   "metadata": {},
   "source": [
    "## 🏁 Conclusion\n",
    "\n",
    "In this project, we **prepared and cleaned a retail consumer dataset** to enable meaningful analysis and insights. Key steps included:  \n",
    "\n",
    "1. **Importing necessary libraries** like Pandas and SQLAlchemy for data manipulation and database interaction.  \n",
    "2. **Exploring and understanding the dataset** using `info()`, `describe()`, and checking for missing values.  \n",
    "3. **Handling missing data** by filling review ratings with category medians and removing redundant columns.  \n",
    "4. **Standardizing and transforming data** for easier analysis, such as renaming columns, creating `age_group` and `purchase_frequency_days`.  \n",
    "5. **Connecting to MySQL** and uploading the cleaned DataFrame for **structured storage and SQL-based analysis**.  \n",
    "\n",
    "These steps ensure the dataset is **accurate, clean, and ready** for deeper analysis, visualizations, and insights generation. The processed data can now be used to:  \n",
    "- Analyze customer behavior and purchasing patterns  \n",
    "- Segment customers for targeted marketing  \n",
    "- Support data-driven business strategies to improve **sales, loyalty, and customer engagement**.\n"
   ]
  }
 ],
 "metadata": {
  "kernelspec": {
   "display_name": "Python 3",
   "language": "python",
   "name": "python3"
  },
  "language_info": {
   "codemirror_mode": {
    "name": "ipython",
    "version": 3
   },
   "file_extension": ".py",
   "mimetype": "text/x-python",
   "name": "python",
   "nbconvert_exporter": "python",
   "pygments_lexer": "ipython3",
   "version": "3.11.4"
  }
 },
 "nbformat": 4,
 "nbformat_minor": 5
}
